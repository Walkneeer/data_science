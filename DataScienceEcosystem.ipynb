{
 "cells": [
  {
   "cell_type": "markdown",
   "id": "0bed350b",
   "metadata": {},
   "source": [
    "# Data Science Tools and Ecosystem"
   ]
  },
  {
   "cell_type": "markdown",
   "id": "9d9cddad",
   "metadata": {},
   "source": [
    "In this notebook, Data Science Tools and Ecosystem are summarized."
   ]
  },
  {
   "cell_type": "markdown",
   "id": "e9935c77",
   "metadata": {},
   "source": [
    "**Objectives:**\n",
    "\n",
    "- List popular data science programming language.\n",
    "- List commomly used data science libraries.\n",
    "- List commonly used data science development environment.\n",
    "- How to evaluate simple arithmetic expression in python.\n",
    "- Example of a python function.\n",
    "- How to use mardkdown and code cells inside Jupyter Notebook? \n",
    "- How to upload a Jupiter Notebook to GitHub?"
   ]
  },
  {
   "cell_type": "markdown",
   "id": "f9749fa6",
   "metadata": {},
   "source": [
    "<u> Some of the popular languages that Data Scientists use are: </u>\n",
    "\n",
    "Python, R, SQL Scala, Java, C++, julia"
   ]
  },
  {
   "cell_type": "markdown",
   "id": "ca8bfeff",
   "metadata": {},
   "source": [
    "<u> Some of the commonly used libraries used by Data Scientists include: </u>\n",
    "\n",
    "NumPy, Pandas, Matplotlib, Seaborn, Scikit-learn, Keras, TensorFLow, PyTorch, Apache Spark,  "
   ]
  },
  {
   "cell_type": "markdown",
   "id": "3449a4c3",
   "metadata": {},
   "source": [
    "| Data Science Tools |\n",
    "|:--------|\n",
    "|  Jupyter Notebooks   |\n",
    "|  JupyterLite   |\n",
    "|  Google colab\n",
    "|  Visual Studio Code               |"
   ]
  },
  {
   "cell_type": "markdown",
   "id": "3962c65a",
   "metadata": {},
   "source": [
    "### Below are a few examples of evaluating arithmetic expressions in Python"
   ]
  },
  {
   "cell_type": "code",
   "execution_count": 7,
   "id": "e59468f7",
   "metadata": {},
   "outputs": [
    {
     "name": "stdout",
     "output_type": "stream",
     "text": [
      "20.0\n"
     ]
    }
   ],
   "source": [
    "a = 1+1\n",
    "b = 3*4\n",
    "c = 2**2\n",
    "d = 4/2\n",
    "\n",
    "result = a+b+c+d\n",
    "print(result)"
   ]
  },
  {
   "cell_type": "code",
   "execution_count": 8,
   "id": "864b9ea1",
   "metadata": {},
   "outputs": [
    {
     "data": {
      "text/plain": [
       "17"
      ]
     },
     "execution_count": 8,
     "metadata": {},
     "output_type": "execute_result"
    }
   ],
   "source": [
    "# This a simple arithmetic expression to mutiply then add integers\n",
    "(3*4)+5"
   ]
  },
  {
   "cell_type": "code",
   "execution_count": 9,
   "id": "2ac3b04d",
   "metadata": {},
   "outputs": [
    {
     "data": {
      "text/plain": [
       "3.3333333333333335"
      ]
     },
     "execution_count": 9,
     "metadata": {},
     "output_type": "execute_result"
    }
   ],
   "source": [
    "# python function that take a time in minute as argument and return a time in hour as a result\n",
    "\n",
    "def convert_min_to_hour(time_in_min):\n",
    "    time_in_hour = time_in_min / 60\n",
    "    return time_in_hour\n",
    "\n",
    "# This will convert 200 minutes to hours by diving by 60\n",
    "\n",
    "convert_min_to_hour(200)"
   ]
  },
  {
   "cell_type": "markdown",
   "id": "371be7ff",
   "metadata": {},
   "source": [
    "## Author :\n",
    "Nicolas Lamour"
   ]
  }
 ],
 "metadata": {
  "kernelspec": {
   "display_name": "Python 3 (ipykernel)",
   "language": "python",
   "name": "python3"
  },
  "language_info": {
   "codemirror_mode": {
    "name": "ipython",
    "version": 3
   },
   "file_extension": ".py",
   "mimetype": "text/x-python",
   "name": "python",
   "nbconvert_exporter": "python",
   "pygments_lexer": "ipython3",
   "version": "3.9.7"
  }
 },
 "nbformat": 4,
 "nbformat_minor": 5
}
